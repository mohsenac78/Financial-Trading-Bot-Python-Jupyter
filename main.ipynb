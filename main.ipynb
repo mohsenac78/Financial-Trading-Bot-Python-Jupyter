{
 "cells": [
  {
   "cell_type": "code",
   "execution_count": 12,
   "id": "3a73698d",
   "metadata": {},
   "outputs": [],
   "source": [
    "%run ConsolidationResults.ipynb function(ConsolidationResults)\n",
    "%run ForeSignalScraper.ipynb function(Login)\n",
    "%run TradingViewScaper.ipynb function(Price)\n",
    "%run OpenOrdersMT5.ipynb function(Login_mt5)\n",
    "%run sqlite3.ipynb function(Extract_Data)"
   ]
  },
  {
   "cell_type": "code",
   "execution_count": 13,
   "id": "12324605",
   "metadata": {},
   "outputs": [],
   "source": [
    "# Currencys list and Desired Time to Refresh wbsites\n",
    "Currencys_list = ['EURUSD','USDCHF','GBPUSD','USDJPY','USDCAD','AUDUSD','EURJPY','NZDUSD','GBPCHF']\n",
    "desired_time = 60"
   ]
  },
  {
   "cell_type": "code",
   "execution_count": 14,
   "id": "8a25fa6d",
   "metadata": {},
   "outputs": [],
   "source": [
    "# Foresignal login Information\n",
    "FoLogin_url = 'https://foresignal.com/en/login/index'\n",
    "Fouser_name = 'xabiz'\n",
    "FoUser_password = 'tohid0010011'"
   ]
  },
  {
   "cell_type": "code",
   "execution_count": 15,
   "id": "b33952c3",
   "metadata": {},
   "outputs": [],
   "source": [
    "# Foresignal Scrape Specification\n",
    "FoWebsite_url = 'https://foresignal.com/en/'\n",
    "Foclassorid = 'class'\n",
    "Foclassoridvalue = 'd-flex flex-row flex-wrap signal-row'"
   ]
  },
  {
   "cell_type": "code",
   "execution_count": 16,
   "id": "029a8bc7",
   "metadata": {},
   "outputs": [],
   "source": [
    "#Login to Foresignal and Scrape Data\n",
    "ForeSignalDriver = Login(FoLogin_url,Fouser_name,FoUser_password)"
   ]
  },
  {
   "cell_type": "code",
   "execution_count": 17,
   "id": "17677e53",
   "metadata": {},
   "outputs": [],
   "source": [
    "#Login to Tradingview and Scrape Data\n",
    "final_list = Price(2,Currencys_list)"
   ]
  },
  {
   "cell_type": "code",
   "execution_count": 18,
   "id": "e06fa30f",
   "metadata": {},
   "outputs": [],
   "source": [
    "# MT5 Accounts\n",
    "\n",
    "# Alpari Broker Demo Account\n",
    "# login_id = 51915381\n",
    "# password = 'dq5tttot'\n",
    "# server = 'Alpari=MT5-Demo'\n",
    "\n",
    "# FIBOGroup Broker Demo Account\n",
    "# login_id = 3060009\n",
    "# password = '$9Bj#5qL'\n",
    "# server = 'FIBOGroup-MT5 Server'"
   ]
  },
  {
   "cell_type": "code",
   "execution_count": 19,
   "id": "f1b99f18",
   "metadata": {},
   "outputs": [],
   "source": [
    "#MetaTrader5 Login Informations and login to Software\n",
    "login_id = 3060539\n",
    "password = '5wB(D(m5'\n",
    "server = 'FIBOGroup-MT5 Server'\n",
    "Login_mt5 (login_id,password,server)"
   ]
  },
  {
   "cell_type": "code",
   "execution_count": 20,
   "id": "b9cdbc8e",
   "metadata": {},
   "outputs": [],
   "source": [
    "# Use this line to create connection with sql server database\n",
    "# server = 'MOHSEN-AS'\n",
    "# database = 'FInancial Scraper'\n",
    "# username = 'sa'\n",
    "# password = 'Mohsen13781378###***'\n",
    "# conn_str = connect_to_database(server,database,username,password)"
   ]
  },
  {
   "cell_type": "code",
   "execution_count": null,
   "id": "fdfd8dd3",
   "metadata": {},
   "outputs": [],
   "source": [
    "DatabaseName = 'Order_details'\n",
    "TableName = 'Orders'\n",
    "ConsolidationResults(Currencys_list,desired_time,FoWebsite_url,Foclassorid,Foclassoridvalue,ForeSignalDriver,final_list,\n",
    "                    DatabaseName,TableName)"
   ]
  }
 ],
 "metadata": {
  "kernelspec": {
   "display_name": "Python 3 (ipykernel)",
   "language": "python",
   "name": "python3"
  },
  "language_info": {
   "codemirror_mode": {
    "name": "ipython",
    "version": 3
   },
   "file_extension": ".py",
   "mimetype": "text/x-python",
   "name": "python",
   "nbconvert_exporter": "python",
   "pygments_lexer": "ipython3",
   "version": "3.11.5"
  }
 },
 "nbformat": 4,
 "nbformat_minor": 5
}
