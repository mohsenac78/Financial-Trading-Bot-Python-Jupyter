{
 "cells": [
  {
   "cell_type": "code",
   "execution_count": 3,
   "id": "17316d04",
   "metadata": {},
   "outputs": [],
   "source": [
    "import tkinter\n",
    "from tkinter import filedialog\n",
    "def browse_file  ():\n",
    "    \n",
    "    print('please browse chromeweb.exe drive file ...')\n",
    "    main_win = tkinter.Tk()\n",
    "    main_win.withdraw()\n",
    "\n",
    "    main_win.overrideredirect(True)\n",
    "    main_win.geometry('0x0+0+0')\n",
    "\n",
    "    main_win.deiconify()\n",
    "    main_win.lift()\n",
    "    main_win.focus_force()\n",
    "\n",
    "    #open file selector\n",
    "    main_win.sourceFile  = filedialog.askopenfilename(parent=main_win,initialdir='/')\n",
    "    title  = 'please select a dictionary'\n",
    "\n",
    "    #close window after selection\n",
    "    main_win.destroy()\n",
    "\n",
    "    #return path\n",
    "    return main_win.sourceFile\n"
   ]
  }
 ],
 "metadata": {
  "kernelspec": {
   "display_name": "Python 3 (ipykernel)",
   "language": "python",
   "name": "python3"
  },
  "language_info": {
   "codemirror_mode": {
    "name": "ipython",
    "version": 3
   },
   "file_extension": ".py",
   "mimetype": "text/x-python",
   "name": "python",
   "nbconvert_exporter": "python",
   "pygments_lexer": "ipython3",
   "version": "3.10.9"
  }
 },
 "nbformat": 4,
 "nbformat_minor": 5
}
