{
 "cells": [
  {
   "cell_type": "code",
   "execution_count": 1,
   "id": "14aa9273",
   "metadata": {},
   "outputs": [],
   "source": [
    "def ClassificationSymboles (Classification_Result):\n",
    "    \n",
    "    # Check Classification_Result list\n",
    "    # print(Classification_Result)\n",
    "\n",
    "    Update_list = list()\n",
    "    symbole_list= ['EURUSD','USDCHF','GBPUSD','USDJPY','USDCAD','AUDUSD','EURJPY','NZDUSD','GBPCHF' ]\n",
    "    key_words_0 = ['From','Till']\n",
    "    key_words_1 = ['Buy','Sell']\n",
    "    key_words_2 = ['Take','Stop']\n",
    "\n",
    "    for items in Classification_Result:\n",
    "        for subitems in items:\n",
    "            # print(subitems)\n",
    "            if subitems[0] in symbole_list:\n",
    "                Update_list.append([f'{subitems[0]}'])\n",
    "                # Update_list.append([f'{subitems[2]} {subitems[3]} {subitems[4]}'])\n",
    "        \n",
    "            elif subitems[0] in key_words_0 or subitems[0] in key_words_1:\n",
    "                Update_list.append([f'{subitems[0]} {subitems[1]}'])\n",
    "                Update_list.append([f'{subitems[2]}'])\n",
    "\n",
    "            elif subitems[0] in key_words_2:\n",
    "                Update_list.append([f'{subitems[0]} {subitems[1]} {subitems[2]}'])\n",
    "                Update_list.append([f'{subitems[3]}'])\n",
    "    \n",
    "    # Check Update_list\n",
    "    # print(Update_list)\n",
    "\n",
    "    Mainlist=list()\n",
    "    for [items] in Update_list:\n",
    "        Mainlist.append(items)\n",
    "    \n",
    "    # Check Mainlist\n",
    "    # print(Mainlist)\n",
    "\n",
    "    Mainlist2=list()\n",
    "    SubList=list()\n",
    "\n",
    "    for items in Mainlist:\n",
    "\n",
    "        if items in symbole_list and len(SubList)>1:\n",
    "\n",
    "            Mainlist2.append(SubList)\n",
    "            SubList = list()\n",
    "\n",
    "        SubList.append(items) \n",
    "\n",
    "    Mainlist2.append(SubList)\n",
    "    \n",
    "    # Check Mainlist2\n",
    "    # print(Mainlist2)\n",
    "\n",
    "    return Mainlist2"
   ]
  }
 ],
 "metadata": {
  "kernelspec": {
   "display_name": "Python 3 (ipykernel)",
   "language": "python",
   "name": "python3"
  },
  "language_info": {
   "codemirror_mode": {
    "name": "ipython",
    "version": 3
   },
   "file_extension": ".py",
   "mimetype": "text/x-python",
   "name": "python",
   "nbconvert_exporter": "python",
   "pygments_lexer": "ipython3",
   "version": "3.11.5"
  }
 },
 "nbformat": 4,
 "nbformat_minor": 5
}
