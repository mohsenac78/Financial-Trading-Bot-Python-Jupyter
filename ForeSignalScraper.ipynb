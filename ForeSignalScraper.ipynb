{
 "cells": [
  {
   "cell_type": "code",
   "execution_count": 3,
   "id": "501916e6",
   "metadata": {},
   "outputs": [],
   "source": [
    "from selenium.webdriver.common.by import By\n",
    "from selenium.webdriver.chrome.service import Service\n",
    "%run GetChromeDriver.ipynb function(Get_Driver,OpenChromeDriver)\n",
    "%run ClassificationCards.ipynb function(ClassificationCards)\n",
    "%run ClassificationSymboles.ipynb function(ClassificationSymboles)"
   ]
  },
  {
   "cell_type": "code",
   "execution_count": 4,
   "id": "3c58a3e0",
   "metadata": {},
   "outputs": [],
   "source": [
    "#inter './MetaTrader5_automation/Scripts/activate' in terminal when click on F5\n",
    "#It gave the error, fix the problem using the following method\n",
    "#To fix the error, you need to change the PowerShell execution policy to remotesigned\n",
    "#Open the Start Menu on Windows and search for powershell and right-click on it. Click on \"run as administrator\"\n",
    "#Type the following command in the PowerShell admin window to change the execution policy:\n",
    "#set-executionpolicy remotesigned\n",
    "#You will be prompted to accept the change, type A(Yes to all), and press ENTER on your keyboard to allow the change.\n",
    "#Then enter this code './MetaTrader5_automation/Scripts/activate' in terminal\n",
    "#Whenever you want to disable the virtual environment, use the 'deactivate' command.\n",
    "\n",
    "#The best way is to search for the above term in the search field and place '>python: Select Interpreter' \n",
    "#and browse the path of virtual environment and select python.exe file in Scripts folder.\n",
    "#Then you can select Terminal from the top toolbar and open a new terminal."
   ]
  },
  {
   "cell_type": "code",
   "execution_count": 5,
   "id": "71d19006",
   "metadata": {},
   "outputs": [],
   "source": [
    "def Login (log_url,log_user,log_pass):\n",
    "    driver = Get_Driver()\n",
    "    OpenChromeDriver (driver,log_url)\n",
    "    driver.find_element(\"name\", \"user_name\").send_keys(log_user)\n",
    "    driver.find_element(\"name\", \"user_password\").send_keys(log_pass)\n",
    "    driver.find_element(By.XPATH,'//button[@type=\"submit\"]').click()\n",
    "    return driver"
   ]
  },
  {
   "cell_type": "code",
   "execution_count": 6,
   "id": "d69ef2b4",
   "metadata": {},
   "outputs": [],
   "source": [
    "def Refresh (driver,web_url,classorid,classoridvalue):\n",
    "    driver.get(web_url)\n",
    "    driver.execute_script(\"window.scrollTo(0, document.body.scrollHeight);\")\n",
    "    results = driver.find_elements(By.XPATH, f\"//*[@{classorid}='{classoridvalue}']\")\n",
    "       \n",
    "    mainlist =list()\n",
    "    for result in results:\n",
    "        text = result.text.split()\n",
    "        mainlist.append(text)\n",
    "        \n",
    "    return mainlist"
   ]
  },
  {
   "cell_type": "code",
   "execution_count": 7,
   "id": "1a123bd0",
   "metadata": {},
   "outputs": [],
   "source": [
    "def CustomizeFoSignals (Login_driver,weburl,classorid,classoridvalue):\n",
    "    \n",
    "    results = Refresh(Login_driver,weburl,classorid,classoridvalue)\n",
    "    Classification_Result = ClassificationCards(results)\n",
    "    final_list = ClassificationSymboles(Classification_Result)\n",
    "    # print(final_list)\n",
    "    return final_list"
   ]
  }
 ],
 "metadata": {
  "kernelspec": {
   "display_name": "Python 3 (ipykernel)",
   "language": "python",
   "name": "python3"
  },
  "language_info": {
   "codemirror_mode": {
    "name": "ipython",
    "version": 3
   },
   "file_extension": ".py",
   "mimetype": "text/x-python",
   "name": "python",
   "nbconvert_exporter": "python",
   "pygments_lexer": "ipython3",
   "version": "3.11.5"
  }
 },
 "nbformat": 4,
 "nbformat_minor": 5
}
