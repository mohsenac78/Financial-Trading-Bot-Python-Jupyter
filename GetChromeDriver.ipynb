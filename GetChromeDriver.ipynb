{
 "cells": [
  {
   "cell_type": "code",
   "execution_count": 9,
   "id": "68a9205d",
   "metadata": {},
   "outputs": [],
   "source": [
    "from selenium import webdriver\n",
    "from selenium.webdriver.chrome.service import Service\n",
    "from selenium.webdriver.common.by import By\n",
    "%run BrowsFiles.ipynb function(browse_file)"
   ]
  },
  {
   "cell_type": "code",
   "execution_count": 10,
   "id": "763b6871",
   "metadata": {},
   "outputs": [],
   "source": [
    "# Use when we want to configure chrome web driver\n",
    "\n",
    "def Get_Driver ():\n",
    "    try:\n",
    "        path = r\"C:\\My Projects\\Python Projects\\Financial Trader\\WebScrapingProject\\chromedriver-win64\\chromedriver.exe\"\n",
    "        service = Service(executable_path=path)\n",
    "        driver = webdriver.Chrome(service=service)\n",
    "    except:\n",
    "        path = browse_file()\n",
    "        service = Service(executable_path=path)\n",
    "        driver = webdriver.Chrome(service=service)\n",
    "    \n",
    "    return driver"
   ]
  },
  {
   "cell_type": "code",
   "execution_count": 11,
   "id": "2ca26733",
   "metadata": {},
   "outputs": [],
   "source": [
    "# Use when we want to open chrome web driver\n",
    "\n",
    "def OpenChromeDriver (driver,url):\n",
    "\n",
    "    return driver.get(url)"
   ]
  },
  {
   "cell_type": "code",
   "execution_count": 12,
   "id": "2d5e6de0",
   "metadata": {},
   "outputs": [],
   "source": [
    "# Use when we want to open multiple tabs on chrome web driver\n",
    "\n",
    "def OpenNewTabs (driver,itemnumber,Url): \n",
    "    driver.execute_script(\"window.open('');\")\n",
    "    driver.switch_to.window(driver.window_handles[itemnumber])\n",
    "    driver.get(Url)\n",
    "    return driver"
   ]
  },
  {
   "cell_type": "code",
   "execution_count": 13,
   "id": "f4f3248a",
   "metadata": {},
   "outputs": [],
   "source": [
    "# Use when we want to choose tag,classorid,classoridvalue by XPATH to find html elements in page \n",
    "\n",
    "def Find_Element_By_XPATH (driver,specifications):\n",
    "    \n",
    "    Result = driver.find_element(By.XPATH, specifications)\n",
    "    \n",
    "    return Result"
   ]
  },
  {
   "cell_type": "code",
   "execution_count": null,
   "id": "ff756e6f",
   "metadata": {},
   "outputs": [],
   "source": []
  }
 ],
 "metadata": {
  "kernelspec": {
   "display_name": "Python 3 (ipykernel)",
   "language": "python",
   "name": "python3"
  },
  "language_info": {
   "codemirror_mode": {
    "name": "ipython",
    "version": 3
   },
   "file_extension": ".py",
   "mimetype": "text/x-python",
   "name": "python",
   "nbconvert_exporter": "python",
   "pygments_lexer": "ipython3",
   "version": "3.11.5"
  }
 },
 "nbformat": 4,
 "nbformat_minor": 5
}
