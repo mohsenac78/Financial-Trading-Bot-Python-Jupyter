{
 "cells": [
  {
   "cell_type": "code",
   "execution_count": 2,
   "id": "1d8e30ff",
   "metadata": {},
   "outputs": [],
   "source": [
    "import sys\n",
    "import pyodbc\n",
    "from sqlalchemy import create_engine, MetaData, Table, Column, Integer, String, Float"
   ]
  },
  {
   "cell_type": "code",
   "execution_count": 3,
   "id": "4266d17c",
   "metadata": {},
   "outputs": [],
   "source": [
    "def connect_to_database (server,database,username,password):\n",
    "    conn_str = f'DRIVER=SQL Server;SERVER={server};DATABASE={database};UID={username};PWD={password}'\n",
    "    conn = pyodbc.connect(conn_str)\n",
    "    return conn\n",
    "\n",
    "# Use this line to create connection with sql server database\n",
    "# server = 'DESKTOP-7PVA1DT'\n",
    "# database = 'FInancial Scraper'\n",
    "# username = 'sa'\n",
    "# password = 'Mohsen13781378###***'\n",
    "# conn_str = connect_to_database(server,database,username,password)"
   ]
  },
  {
   "cell_type": "code",
   "execution_count": 66,
   "id": "5e5601e4",
   "metadata": {},
   "outputs": [],
   "source": [
    "def create_table (TableName,DBServer,DBDatabase,DBUsername,DBPassword):\n",
    "    engine = create_engine(f'mssql+pyodbc://{username}:{password}@{server}/{database}?driver=SQL Server')\n",
    "    metadata = MetaData()\n",
    "    your_table = Table(TableName, metadata,\n",
    "        Column('id', Integer, primary_key=True),\n",
    "        Column('Symbole', String),\n",
    "        Column('From-Type', String),\n",
    "        Column('From-Time', String),\n",
    "        Column('Till-Type', String),\n",
    "        Column('Till-Time', String),\n",
    "        Column('Trade-Type', String),\n",
    "        Column('Entry-Price', Float),\n",
    "        Column('TakeProfit-Price', Float),\n",
    "        Column('StopLoss-Price', Float),\n",
    "        Column('CurrentDateTime', String),\n",
    "        Column('CurrentPrice', Float),\n",
    "    # Add more columns as needed\n",
    "    )\n",
    "    metadata.create_all(engine)\n",
    "\n",
    "# # Use this lines to create a new database\n",
    "# TableName = 'mohsen'\n",
    "# DBServer = 'DESKTOP-7PVA1DT'\n",
    "# DBDatabase = 'FInancial Scraper'\n",
    "# DBUsername = 'sa'\n",
    "# DBPassword = 'Mohsen13781378###***'\n",
    "# create_table(TableName,DBServer,DBDatabase,DBUsername,DBPassword)"
   ]
  },
  {
   "cell_type": "code",
   "execution_count": 67,
   "id": "a46d4021",
   "metadata": {
    "scrolled": true
   },
   "outputs": [],
   "source": [
    "def send_datas (conn_str , TableName, InfoTuple):\n",
    "    \n",
    "    cursor = conn_str.cursor()\n",
    "\n",
    "    cursor.execute('SET IDENTITY_INSERT Informations ON')\n",
    "\n",
    "    cursor.execute(''' INSERT INTO {} ([id], [Symbole], [From-Type], [From-Time], [Till-Type], [Till-Time]\n",
    "        , [Trade-Type], [Entry-Price], [TakeProfit-Price], [StopLoss-Price], [CurrentDateTime], [CurrentPrice])\n",
    "        VALUES {}'''.format(TableName,InfoTuple))\n",
    "    \n",
    "    cursor.execute('SET IDENTITY_INSERT Informations OFF')\n",
    "\n",
    "    conn_str.commit()\n",
    "\n",
    "# # Use this lines to send informations to database\n",
    "\n",
    "# Connect to the database\n",
    "# server = 'DESKTOP-7PVA1DT'\n",
    "# database = 'FInancial Scraper'\n",
    "# username = 'sa'\n",
    "# password = 'Mohsen13781378###***'\n",
    "# conn_str = connect_to_database(server,database,username,password)\n",
    "\n",
    "# # Table Name\n",
    "# TableName = 'Informations'\n",
    "\n",
    "# # Tuple of information\n",
    "# InfoTuple = (11, 'Chair', 'Chair', 'Chair', 'Chair', 'Chair', 'Chair', 1.5, 1.5, 1.5, 'Chair', 1.5)\n",
    "\n",
    "# send_datas(conn_str, TableName, InfoTuple)"
   ]
  },
  {
   "cell_type": "code",
   "execution_count": 5,
   "id": "99e2a4f4",
   "metadata": {},
   "outputs": [
    {
     "name": "stdout",
     "output_type": "stream",
     "text": [
      "Rows deleted successfully.\n"
     ]
    }
   ],
   "source": [
    "def delete_all_items(conn_str,TableName):\n",
    "    # Create a cursor\n",
    "    cursor = conn_str.cursor()\n",
    "\n",
    "    try:\n",
    "        # Execute the DELETE statement to remove all rows from the \"Informations\" table\n",
    "        cursor.execute('DELETE FROM {}'.format(TableName))\n",
    "\n",
    "        # Commit the transaction\n",
    "        conn_str.commit()\n",
    "\n",
    "        print(\"Rows deleted successfully.\")\n",
    "\n",
    "    except Exception as e:\n",
    "        print(f\"Error: {e}\")\n",
    "\n",
    "    finally:\n",
    "        # Close the cursor and connection in a finally block\n",
    "        cursor.close()\n",
    "        conn_str.close()\n",
    "\n",
    "# Use this lines to delete all records of a table exists in database\n",
    "server = 'DESKTOP-7PVA1DT'\n",
    "database = 'FInancial Scraper'\n",
    "username = 'sa'\n",
    "password = 'Mohsen13781378###***'\n",
    "\n",
    "# Connect to the database\n",
    "conn_str = connect_to_database(server, database, username, password)\n",
    "\n",
    "# Table Name\n",
    "TableName = 'Informations'\n",
    "\n",
    "delete_all_items(conn_str,TableName)"
   ]
  },
  {
   "cell_type": "code",
   "execution_count": null,
   "id": "0519bbb4",
   "metadata": {},
   "outputs": [],
   "source": []
  }
 ],
 "metadata": {
  "kernelspec": {
   "display_name": "Python 3 (ipykernel)",
   "language": "python",
   "name": "python3"
  },
  "language_info": {
   "codemirror_mode": {
    "name": "ipython",
    "version": 3
   },
   "file_extension": ".py",
   "mimetype": "text/x-python",
   "name": "python",
   "nbconvert_exporter": "python",
   "pygments_lexer": "ipython3",
   "version": "3.11.5"
  }
 },
 "nbformat": 4,
 "nbformat_minor": 5
}
