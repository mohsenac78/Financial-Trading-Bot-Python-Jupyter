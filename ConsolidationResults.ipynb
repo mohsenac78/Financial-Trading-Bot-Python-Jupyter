{
 "cells": [
  {
   "cell_type": "code",
   "execution_count": 4,
   "id": "a4a03765",
   "metadata": {},
   "outputs": [],
   "source": [
    "# Librarys\n",
    "%run ForeSignalScraper.ipynb function(Login)\n",
    "%run ForeSignalScraper.ipynb function(CustomizeFoSignals)\n",
    "%run TradingViewScaper.ipynb function(Price)\n",
    "%run OpenOrdersMT5.ipynb function(Login_mt5,Expiration_time,Determination_Set_Order)\n",
    "from datetime import datetime\n",
    "from collections import OrderedDict\n",
    "import pandas as pd\n",
    "import random\n",
    "import time"
   ]
  },
  {
   "cell_type": "code",
   "execution_count": 5,
   "id": "c97df881",
   "metadata": {},
   "outputs": [
    {
     "name": "stdout",
     "output_type": "stream",
     "text": [
      "Please Enter Your Desired Time Range To load Websiter - input a number ex:20 : 10\n"
     ]
    }
   ],
   "source": [
    "# Currencys list and Desired Time to Refresh wbsites\n",
    "Currencys_list = ['EURUSD','USDCHF','GBPUSD','USDJPY','USDCAD','AUDUSD','EURJPY','NZDUSD','GBPCHF']\n",
    "desired_time = int(input('Please Enter Your Desired Time Range To load Websiter - input a number ex:20 : '))\n",
    "\n",
    "# Foresignal login Information\n",
    "FoLogin_url = 'https://foresignal.com/en/login/index'\n",
    "Fouser_name = 'xabiz'\n",
    "FoUser_password = 'tohid0010011'\n",
    "\n",
    "# Foresignal Scrape Specification\n",
    "FoWebsite_url = 'https://foresignal.com/en/'\n",
    "Foclassorid = 'class'\n",
    "Foclassoridvalue = 'd-flex flex-row flex-wrap signal-row'\n",
    "\n",
    "#Login to Foresignal and Scrape Data\n",
    "ForeSignalDriver = Login(FoLogin_url,Fouser_name,FoUser_password)\n",
    "\n",
    "#Login to Tradingview and Scrape Data\n",
    "final_list = Price(2,Currencys_list)\n",
    "\n",
    "#MetaTrader5 Login Informations and login to Software\n",
    "login_id = 3060009\n",
    "password = '$9Bj#5qL'\n",
    "server = 'FIBOGroup-MT5 Server'\n",
    "Login_mt5 (login_id,password,server)\n",
    "\n",
    "# Empty Dicts and Lists\n",
    "final_informations = OrderedDict()\n",
    "FoFinalList = list()\n",
    "Reference_list = list()"
   ]
  },
  {
   "cell_type": "code",
   "execution_count": 6,
   "id": "27231f9a",
   "metadata": {},
   "outputs": [
    {
     "name": "stdout",
     "output_type": "stream",
     "text": [
      "['USDCHF', 'From UTC-08:00', '09:13', 'Till UTC-08:00', '00:13', 'Buy at', '0.8811', 'Take profit* at', '0.883', 'Stop loss at', '0.8788', 'USDCHF : 2023-11-27 22:27:41.447222', '0.88039']\n",
      "['USDCAD', 'From UTC-08:00', '11:06', 'Till UTC-08:00', '20:06', 'Buy at', '1.3623', 'Take profit* at', '1.3637', 'Stop loss at', '1.3606', 'USDCAD : 2023-11-27 22:27:41.674160', '1.36248']\n",
      "['AUDUSD', 'From UTC-08:00', '08:49', 'Till UTC-08:00', '16:49', 'Sell at', '0.6595', 'Take profit* at', '0.658', 'Stop loss at', '0.6614', 'AUDUSD : 2023-11-27 22:27:41.748509', '0.66054']\n",
      "['EURJPY', 'From UTC-08:00', '12:19', 'Till UTC-08:00', '18:19', 'Buy at', '162.75', 'Take profit* at', '162.9', 'Stop loss at', '162.57', 'EURJPY : 2023-11-27 22:27:41.817524', '162.809']\n",
      "['NZDUSD', 'From UTC-08:00', '11:46', 'Till UTC-08:00', '20:46', 'Sell at', '0.6108', 'Take profit* at', '0.6094', 'Stop loss at', '0.6125', 'NZDUSD : 2023-11-27 22:27:42.047430', '0.61002']\n",
      "['GBPCHF', 'From UTC-08:00', '10:30', 'Till UTC-08:00', '04:30', 'Sell at', '1.1115', 'Take profit* at', '1.1101', 'Stop loss at', '1.1132', 'GBPCHF : 2023-11-27 22:27:42.137933', '1.11178']\n"
     ]
    },
    {
     "ename": "KeyboardInterrupt",
     "evalue": "",
     "output_type": "error",
     "traceback": [
      "\u001b[1;31m---------------------------------------------------------------------------\u001b[0m",
      "\u001b[1;31mKeyboardInterrupt\u001b[0m                         Traceback (most recent call last)",
      "Cell \u001b[1;32mIn[6], line 70\u001b[0m\n\u001b[0;32m     67\u001b[0m             result\n\u001b[0;32m     69\u001b[0m delay_time \u001b[38;5;241m=\u001b[39m random\u001b[38;5;241m.\u001b[39mrandrange(\u001b[38;5;241m0\u001b[39m,desired_time)\n\u001b[1;32m---> 70\u001b[0m time\u001b[38;5;241m.\u001b[39msleep(delay_time)\n",
      "\u001b[1;31mKeyboardInterrupt\u001b[0m: "
     ]
    }
   ],
   "source": [
    "\n",
    "while True:\n",
    "\n",
    "    FoFinalList_Start_len = len(FoFinalList)\n",
    "    \n",
    "    for items in CustomizeFoSignals(ForeSignalDriver,FoWebsite_url,Foclassorid,Foclassoridvalue):\n",
    "        if len(items) > 10 and items not in FoFinalList:\n",
    "            FoFinalList.append(items)\n",
    "#     print(FoFinalList)\n",
    "    \n",
    "    FoFinalList_Final_len = len(FoFinalList)\n",
    "\n",
    "    if FoFinalList_Start_len < FoFinalList_Final_len:\n",
    "        \n",
    "        Tradingview_price_dictionary = OrderedDict()\n",
    "\n",
    "        for item in range (0,9):\n",
    "            now = datetime.now()\n",
    "            final_list[0].switch_to.window(final_list[0].window_handles[item])\n",
    "            current_date = f'{Currencys_list[item]} : {now}'\n",
    "            current_price = final_list[1][item].text\n",
    "            \n",
    "            Tradingview_price_dictionary[current_date] = current_price\n",
    "            \n",
    "#         print(Tradingview_price_dictionary)\n",
    "        \n",
    "        for item_fo in FoFinalList:\n",
    "            for k,v in Tradingview_price_dictionary.items():\n",
    "                if item_fo[0] in k[:6]:\n",
    "                    item_fo.append(k)\n",
    "                    item_fo.append(v)\n",
    "                    final_informations[f'{item_fo[:11]}'] = item_fo\n",
    "        \n",
    "        Reference_list_start_len = len(Reference_list)\n",
    "\n",
    "        Reference_list = list(final_informations.items()) \n",
    "        \n",
    "        Reference_list_final_len = len(Reference_list)\n",
    "\n",
    "        if Reference_list_start_len < Reference_list_final_len:\n",
    "            \n",
    "            for items in Reference_list[Reference_list_start_len:Reference_list_final_len]:\n",
    "            \n",
    "                print(items[1])\n",
    "                Symbole = items[1][0]\n",
    "                Entry_Price = float(items[1][6])\n",
    "                Stoploss_Price = float(items[1][10])\n",
    "                Takeprofit_Price = float(items[1][8])\n",
    "                Current_Price = float(items[1][12])\n",
    "                current_time = items[1][4].replace(':',' ').split()\n",
    "                expiration = Expiration_time (int(current_time[0]),int(current_time[1]))\n",
    "                                       \n",
    "                if items[1][5] == 'Buy at' and Entry_Price > Current_Price:\n",
    "                    Type_of_Trade = 'buy stop'\n",
    "                \n",
    "                elif items[1][5] == 'Buy at' and Entry_Price < Current_Price:\n",
    "                    Type_of_Trade = 'buy limit'\n",
    "            \n",
    "                elif items[1][5] == 'Sell at' and Entry_Price < Current_Price:\n",
    "                    Type_of_Trade = 'sell stop'\n",
    "            \n",
    "                elif items[1][5] == 'Sell at' and Entry_Price > Current_Price:\n",
    "                    Type_of_Trade = 'sell limit'\n",
    "                \n",
    "                request = Determination_Set_Order(Type_of_Trade, Symbole , 0.05 ,Entry_Price\n",
    "                                              ,Stoploss_Price,Takeprofit_Price,expiration)   \n",
    "                result = mt.order_send(request)\n",
    "                result\n",
    "                        \n",
    "    delay_time = random.randrange(0,desired_time)\n",
    "    time.sleep(delay_time)\n"
   ]
  },
  {
   "cell_type": "code",
   "execution_count": null,
   "id": "c808343b",
   "metadata": {},
   "outputs": [],
   "source": []
  },
  {
   "cell_type": "code",
   "execution_count": null,
   "id": "68e2b2cc",
   "metadata": {},
   "outputs": [],
   "source": []
  }
 ],
 "metadata": {
  "kernelspec": {
   "display_name": "Python 3 (ipykernel)",
   "language": "python",
   "name": "python3"
  },
  "language_info": {
   "codemirror_mode": {
    "name": "ipython",
    "version": 3
   },
   "file_extension": ".py",
   "mimetype": "text/x-python",
   "name": "python",
   "nbconvert_exporter": "python",
   "pygments_lexer": "ipython3",
   "version": "3.11.5"
  }
 },
 "nbformat": 4,
 "nbformat_minor": 5
}
