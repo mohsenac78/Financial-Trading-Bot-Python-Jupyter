{
 "cells": [
  {
   "cell_type": "code",
   "execution_count": 2,
   "id": "d9ce26d8",
   "metadata": {},
   "outputs": [],
   "source": [
    "# important librarys\n",
    "# website = 'https://foresignal.com/en/'\n",
    "# class or id\n",
    "# class or id value ex : 'd-flex flex-row flex-wrap signal-row'\n",
    "# website_url = input('insert website url : ')\n",
    "# class_id = input('Choose \"class\" or \"id\" : ')\n",
    "# class_id_value = input('insert class or id \"value\" : ')\n",
    "# print(signaltitle(website_url,class_id,class_id_value))\n",
    "# print(Output_Result)\n",
    "\n",
    "# from extractsignaltitles import signaltitle\n",
    "# Output_Result = signaltitle('https://foresignal.com/en/','class','d-flex flex-row flex-wrap signal-row')\n",
    "# print(Output_Result)"
   ]
  },
  {
   "cell_type": "code",
   "execution_count": 3,
   "id": "5e918f29",
   "metadata": {},
   "outputs": [],
   "source": [
    "def ClassificationCards (alist):\n",
    "    \n",
    "    # Check alist \n",
    "    # print(alist)\n",
    "\n",
    "    symbole_list = ['EUR/USD','USD/CHF','GBP/USD','USD/JPY','USD/CAD','AUD/USD','EUR/JPY','NZD/USD','GBP/CHF' ]\n",
    "\n",
    "    for items in alist:\n",
    "        for items_2 in symbole_list:\n",
    "            if items_2 in items:   \n",
    "                items[0]=items[0].replace('/','')\n",
    "                \n",
    "\n",
    "    key_words = ['EURUSD','USDCHF','GBPUSD','USDJPY','USDCAD',\n",
    "                 'AUDUSD','EURJPY','NZDUSD','GBPCHF' ]\n",
    "    \n",
    "    Mainlist = list()\n",
    "    Sublist = list()\n",
    "\n",
    "    for items in alist:\n",
    "\n",
    "        for item in items:\n",
    "            \n",
    "            if item in key_words and len(Sublist)>1:\n",
    "\n",
    "                Mainlist.append(Sublist)\n",
    "                Sublist = list()\n",
    "        \n",
    "        Sublist.append(items)\n",
    "    \n",
    "    Mainlist.append(Sublist)\n",
    "    \n",
    "    # Check Final Mainlist \n",
    "    # print(Mainlist)\n",
    "        \n",
    "    return Mainlist\n",
    "\n",
    "# print (ClassificationCards(Output_Result))"
   ]
  }
 ],
 "metadata": {
  "kernelspec": {
   "display_name": "Python 3 (ipykernel)",
   "language": "python",
   "name": "python3"
  },
  "language_info": {
   "codemirror_mode": {
    "name": "ipython",
    "version": 3
   },
   "file_extension": ".py",
   "mimetype": "text/x-python",
   "name": "python",
   "nbconvert_exporter": "python",
   "pygments_lexer": "ipython3",
   "version": "3.11.5"
  }
 },
 "nbformat": 4,
 "nbformat_minor": 5
}
