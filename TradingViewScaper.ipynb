{
 "cells": [
  {
   "cell_type": "code",
   "execution_count": 2,
   "id": "f5a68ed8",
   "metadata": {},
   "outputs": [],
   "source": [
    "%run GetChromeDriver.ipynb function(Get_Driver,OpenChromeDriver,OpenNewTabs,Find_Element_By_XPATH)\n",
    "from selenium.webdriver.common.by import By\n",
    "import time"
   ]
  },
  {
   "cell_type": "code",
   "execution_count": 3,
   "id": "ddaa111d",
   "metadata": {},
   "outputs": [],
   "source": [
    "def Price (delay,Currencys):\n",
    "    \n",
    "    driver = Get_Driver()\n",
    "    classorid_specifications = './/span[@class = \"last-JWoJqCpY js-symbol-last\"]'\n",
    "    url = f'https://www.tradingview.com/symbols/{Currencys[0]}/?exchange=FX'\n",
    "    OpenChromeDriver(driver,url)\n",
    "    item_0 = Find_Element_By_XPATH(driver,classorid_specifications)\n",
    "    time.sleep(delay)\n",
    "    \n",
    "    for items in range (1,len(Currencys)):\n",
    "\n",
    "        url = f'https://www.tradingview.com/symbols/{Currencys[items]}/?exchange=FX'\n",
    "        \n",
    "        driver = OpenNewTabs(driver,items,url)\n",
    "\n",
    "        find = Find_Element_By_XPATH(driver,classorid_specifications)\n",
    "\n",
    "        if items == 1:\n",
    "            item_1 = find\n",
    "            time.sleep(delay)\n",
    "\n",
    "        elif items == 2:\n",
    "            item_2 = find\n",
    "            time.sleep(delay)\n",
    "\n",
    "        elif items == 3:\n",
    "            item_3 = find\n",
    "            time.sleep(delay)\n",
    "\n",
    "        elif items == 4:\n",
    "            item_4 = find\n",
    "            time.sleep(delay)\n",
    "            \n",
    "        elif items == 5:\n",
    "            item_5 = find\n",
    "            time.sleep(delay)\n",
    "\n",
    "        elif items == 6:\n",
    "            item_6 = find\n",
    "            time.sleep(delay)\n",
    "\n",
    "        elif items == 7:\n",
    "            item_7 = find\n",
    "            time.sleep(delay)\n",
    "\n",
    "        elif items == 8:\n",
    "            item_8 = find\n",
    "            time.sleep(delay)\n",
    "    return [driver,[item_0,item_1,item_2,item_3,item_4,item_5,item_6,item_7,item_8]]"
   ]
  }
 ],
 "metadata": {
  "kernelspec": {
   "display_name": "Python 3 (ipykernel)",
   "language": "python",
   "name": "python3"
  },
  "language_info": {
   "codemirror_mode": {
    "name": "ipython",
    "version": 3
   },
   "file_extension": ".py",
   "mimetype": "text/x-python",
   "name": "python",
   "nbconvert_exporter": "python",
   "pygments_lexer": "ipython3",
   "version": "3.11.5"
  }
 },
 "nbformat": 4,
 "nbformat_minor": 5
}
