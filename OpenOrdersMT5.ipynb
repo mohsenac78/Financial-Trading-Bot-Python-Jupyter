{
 "cells": [
  {
   "cell_type": "code",
   "execution_count": 8,
   "id": "69a528af",
   "metadata": {},
   "outputs": [],
   "source": [
    "import MetaTrader5 as mt\n",
    "import pandas as pd\n",
    "import plotly.express as px\n",
    "from datetime import datetime, timezone\n",
    "import pytz"
   ]
  },
  {
   "cell_type": "code",
   "execution_count": 9,
   "id": "a62a8fb1",
   "metadata": {},
   "outputs": [],
   "source": [
    "def Login_mt5 (login,password,server): \n",
    "    mt.initialize()\n",
    "    mt.login(login,password,server)\n",
    "    if not mt.initialize():\n",
    "        print(\"initialize() failed, error code =\",mt5.last_error())\n",
    "        quit()"
   ]
  },
  {
   "cell_type": "code",
   "execution_count": 10,
   "id": "b3edbc5e",
   "metadata": {},
   "outputs": [],
   "source": [
    "def Expiration_time (hour,minute):\n",
    "    \n",
    "    current_date = str(datetime.now()).split()[0].replace('-',' ').split()\n",
    "    current_time = str(datetime.now()).split()[1].replace(':',' ').split()\n",
    "    \n",
    "    if hour == 0 or hour<int(current_time[0]):\n",
    "\n",
    "        if int(current_date[2]) == 30:\n",
    "            current_date[1] = str(int(current_date[1])+1)\n",
    "            current_date[2] = 1  \n",
    "        else :\n",
    "            current_date[2] = str(int(current_date[2])+1) \n",
    "        \n",
    "    expiration = int(datetime( int(current_date[0]), int(current_date[1]), int(current_date[2]),\n",
    "                              hour, minute, tzinfo=pytz.UTC).timestamp())\n",
    "    return expiration"
   ]
  },
  {
   "cell_type": "code",
   "execution_count": 11,
   "id": "7f547929",
   "metadata": {},
   "outputs": [],
   "source": [
    "def Determination_Set_Order (typeoforder,symbol,volume,entryprice,slprice,tpprice,expiration):\n",
    "                           \n",
    "    \n",
    "    if typeoforder == 'buy limit':\n",
    "        trade_type = mt.ORDER_TYPE_BUY_LIMIT\n",
    "        \n",
    "    elif typeoforder == 'sell limit':\n",
    "        trade_type = mt.ORDER_TYPE_SELL_LIMIT\n",
    "        \n",
    "    elif typeoforder == 'buy stop':\n",
    "        trade_type = mt.ORDER_TYPE_BUY_STOP\n",
    "        \n",
    "    elif typeoforder == 'sell stop':\n",
    "        trade_type = mt.ORDER_TYPE_SELL_STOP\n",
    "    \n",
    "    \n",
    "    request = {\n",
    "        \"action\": mt.TRADE_ACTION_PENDING,\n",
    "        \"symbol\": symbol,\n",
    "        \"volume\": float(volume),\n",
    "        \"type\": trade_type,\n",
    "        \"price\": float(entryprice),\n",
    "        \"sl\": float(slprice),\n",
    "        \"tp\": float(tpprice),\n",
    "        \"deviation\": 20,\n",
    "        \"magic\": 234000,\n",
    "        \"comment\": \"python script open\",\n",
    "        \"type_time\": mt.ORDER_TIME_SPECIFIED,\n",
    "        \"expiration\": expiration, \n",
    "        \"type_filling\": mt.ORDER_FILLING_FOK,\n",
    "    }\n",
    "    return request"
   ]
  },
  {
   "cell_type": "code",
   "execution_count": 12,
   "id": "f5faea73",
   "metadata": {},
   "outputs": [
    {
     "data": {
      "text/plain": [
       "OrderSendResult(retcode=10009, deal=0, order=13249732, volume=1.0, price=0.0, bid=0.0, ask=0.0, comment='Request executed', request_id=1351827868, retcode_external=0, request=TradeRequest(action=5, magic=234000, order=0, symbol='USDCHF', volume=1.0, price=0.8811, stoplimit=0.0, sl=0.8788, tp=1.883, deviation=20, type=4, type_filling=0, type_time=2, expiration=1701389580, comment='python script open', position=0, position_by=0))"
      ]
     },
     "execution_count": 12,
     "metadata": {},
     "output_type": "execute_result"
    }
   ],
   "source": [
    "login_id = 3060009\n",
    "password = '$9Bj#5qL'\n",
    "server = 'FIBOGroup-MT5 Server'\n",
    "Login_mt5 (login_id,password,server)\n",
    "expiration = Expiration_time (0,13)\n",
    "request = Determination_Set_Order('buy stop','USDCHF',1.0,0.8811,0.8788,1.883,expiration)\n",
    "result = mt.order_send(request)\n",
    "result"
   ]
  },
  {
   "cell_type": "code",
   "execution_count": 2,
   "id": "34d404fe",
   "metadata": {},
   "outputs": [
    {
     "name": "stdout",
     "output_type": "stream",
     "text": [
      "['2023', '11', '30'] ['12', '53', '48.217316']\n"
     ]
    }
   ],
   "source": [
    "current_date = str(datetime.now()).split()[0].replace('-',' ').split()\n",
    "current_time = str(datetime.now()).split()[1].replace(':',' ').split()\n",
    "print(current_date,current_time)"
   ]
  },
  {
   "cell_type": "code",
   "execution_count": null,
   "id": "c11d73d5",
   "metadata": {},
   "outputs": [],
   "source": []
  }
 ],
 "metadata": {
  "kernelspec": {
   "display_name": "Python 3 (ipykernel)",
   "language": "python",
   "name": "python3"
  },
  "language_info": {
   "codemirror_mode": {
    "name": "ipython",
    "version": 3
   },
   "file_extension": ".py",
   "mimetype": "text/x-python",
   "name": "python",
   "nbconvert_exporter": "python",
   "pygments_lexer": "ipython3",
   "version": "3.11.5"
  }
 },
 "nbformat": 4,
 "nbformat_minor": 5
}
