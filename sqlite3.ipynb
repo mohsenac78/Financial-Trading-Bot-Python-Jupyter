{
 "cells": [
  {
   "cell_type": "code",
   "execution_count": 4,
   "id": "d48d6a19",
   "metadata": {},
   "outputs": [],
   "source": [
    "import sqlite3\n",
    "import pandas as pd"
   ]
  },
  {
   "cell_type": "code",
   "execution_count": 5,
   "id": "94029be9",
   "metadata": {},
   "outputs": [],
   "source": [
    "def Create_Database_Table(database_name,table_name):\n",
    "    \n",
    "    # Connect to or create a new SQLite database\n",
    "    conn = sqlite3.connect(f'{database_name}.db')\n",
    "\n",
    "    # Create a cursor object\n",
    "    cursor = conn.cursor()\n",
    "\n",
    "    # Execute a SQL command to create a table\n",
    "    cursor.execute(f'''CREATE TABLE IF NOT EXISTS {table_name} ([id] INTEGER PRIMARY KEY, [Symbole] TEXT, [From-Type] TEXT,\n",
    "                        [From-Time] TEXT, [Till-Type] TEXT, [Till-Time] TEXT, [Trade-Type] TEXT, [Entry-Price] Float,\n",
    "                        [TakeProfit-Price] Float, [StopLoss-Price] Float, [CurrentDateTime] TEXT, [CurrentPrice] Float)''')\n",
    "\n",
    "    # Commit changes and close the connection\n",
    "    conn.commit()\n",
    "    conn.close()"
   ]
  },
  {
   "cell_type": "code",
   "execution_count": 6,
   "id": "4bb975e5",
   "metadata": {},
   "outputs": [],
   "source": [
    "# Example to create database and table\n",
    "# Create_Database_Table('database_name','table_name')"
   ]
  },
  {
   "cell_type": "code",
   "execution_count": 7,
   "id": "9531597e",
   "metadata": {},
   "outputs": [],
   "source": [
    "def Insert_Data (database_name,table_name,main_tuple):\n",
    "    \n",
    "    # Connect to or create a new SQLite database\n",
    "    conn = sqlite3.connect(f'{database_name}.db')\n",
    "\n",
    "    # Create a cursor object\n",
    "    cursor = conn.cursor()\n",
    "    \n",
    "    # Example data\n",
    "    data_to_insert = main_tuple\n",
    "    \n",
    "    # Execute data to table\n",
    "    cursor.execute(f'''INSERT INTO {table_name} ([Symbole], [From-Type], [From-Time], [Till-Type], [Till-Time], [Trade-Type],\n",
    "                   [Entry-Price], [TakeProfit-Price], [StopLoss-Price], [CurrentDateTime],[CurrentPrice]) \n",
    "                   VALUES (?, ?, ?, ?, ?, ?, ?, ?, ?, ?, ?)''', data_to_insert)\n",
    "    \n",
    "    # Commit changes and close the connection\n",
    "    conn.commit()\n",
    "    conn.close()\n"
   ]
  },
  {
   "cell_type": "code",
   "execution_count": 16,
   "id": "f718583d",
   "metadata": {},
   "outputs": [],
   "source": [
    "# Example of insert data into database table\n",
    "# sssss = ('s','s','s','s','s','s',1.5,1.5,1.5,'s',1.5)\n",
    "# Insert_Data ('database_name','table_name', sssss)"
   ]
  },
  {
   "cell_type": "code",
   "execution_count": 13,
   "id": "850e3919",
   "metadata": {},
   "outputs": [],
   "source": [
    "def Extract_Data (database_name,table_name,Excel_path):\n",
    "    \n",
    "    # Connect to the SQLite database\n",
    "    conn = sqlite3.connect(f'{database_name}.db')\n",
    "\n",
    "    # Read data from the database into a pandas DataFrame\n",
    "    query = f'SELECT * FROM {table_name}' \n",
    "    \n",
    "    df = pd.read_sql_query(query, conn)\n",
    "\n",
    "    # Close the database connection\n",
    "    conn.close()\n",
    "\n",
    "    # Write the data to an Excel file\n",
    "    df.to_excel(Excel_path, index=False)\n",
    "\n",
    "    print(\"Data has been exported\")"
   ]
  },
  {
   "cell_type": "code",
   "execution_count": 17,
   "id": "78604411",
   "metadata": {},
   "outputs": [
    {
     "name": "stdout",
     "output_type": "stream",
     "text": [
      "Data has been exported\n"
     ]
    }
   ],
   "source": [
    "# Extract_Data ('database_name','table_name','output_data.xlsx')"
   ]
  },
  {
   "cell_type": "code",
   "execution_count": 21,
   "id": "3a8168a3",
   "metadata": {},
   "outputs": [
    {
     "name": "stdout",
     "output_type": "stream",
     "text": [
      "Data has been exported\n"
     ]
    }
   ],
   "source": [
    "# Example to extract data of database table\n",
    "DatabaseName = 'Order_details'\n",
    "TableName = 'Orders'\n",
    "Extract_Data (DatabaseName,TableName,'OrderList.xlsx')"
   ]
  },
  {
   "cell_type": "code",
   "execution_count": null,
   "id": "4af630d6",
   "metadata": {},
   "outputs": [],
   "source": []
  }
 ],
 "metadata": {
  "kernelspec": {
   "display_name": "Python 3 (ipykernel)",
   "language": "python",
   "name": "python3"
  },
  "language_info": {
   "codemirror_mode": {
    "name": "ipython",
    "version": 3
   },
   "file_extension": ".py",
   "mimetype": "text/x-python",
   "name": "python",
   "nbconvert_exporter": "python",
   "pygments_lexer": "ipython3",
   "version": "3.11.5"
  }
 },
 "nbformat": 4,
 "nbformat_minor": 5
}
